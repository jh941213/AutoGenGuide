{
 "cells": [
  {
   "cell_type": "code",
   "execution_count": null,
   "metadata": {},
   "outputs": [
    {
     "ename": "SyntaxError",
     "evalue": "cannot assign to await expression here. Maybe you meant '==' instead of '='? (521556453.py, line 32)",
     "output_type": "error",
     "traceback": [
      "  \u001b[36mCell\u001b[39m\u001b[36m \u001b[39m\u001b[32mIn[4]\u001b[39m\u001b[32m, line 32\u001b[39m\n\u001b[31m    \u001b[39m\u001b[31mawait result = new_assistant.load_state(agent_state)\u001b[39m\n    ^\n\u001b[31mSyntaxError\u001b[39m\u001b[31m:\u001b[39m cannot assign to await expression here. Maybe you meant '==' instead of '='?\n"
     ]
    }
   ],
   "source": [
    "from autogen_agentchat.agents import AssistantAgent\n",
    "from autogen_ext.models.openai import OpenAIChatCompletionClient\n",
    "from autogen_core import CancellationToken\n",
    "from autogen_agentchat.messages import TextMessage\n",
    "import os\n",
    "import dotenv\n",
    "\n",
    "# 에이전트 생성\n",
    "model_client = OpenAIChatCompletionClient(model=\"gemini-2.0-flash\", api_key= os.getenv(\"GOOGLE_API_KEY\"))\n",
    "assistant = AssistantAgent(\n",
    "    name=\"poet\",\n",
    "    system_message=\"당신은 시를 쓰는 도우미입니다.\",\n",
    "    model_client=model_client\n",
    ")\n",
    "\n",
    "# 첫 번째 대화\n",
    "response = await assistant.on_messages(\n",
    "    [TextMessage(content=\"제주도에 관한 3줄 시를 써주세요\", source=\"user\")],\n",
    "    CancellationToken()\n",
    ")\n",
    "print(response.chat_message.content)\n",
    "\n",
    "# 에이전트 상태 저장\n",
    "agent_state = await assistant.save_state()\n",
    "\n",
    "# 새 에이전트 생성 및 상태 불러오기\n",
    "new_assistant = AssistantAgent(\n",
    "    name=\"poet\",\n",
    "    system_message=\"당신은 시를 쓰는 도우미입니다.\",\n",
    "    model_client=model_client\n",
    ")\n",
    "await new_assistant.load_state(agent_state)\n",
    "\n",
    "# 이전 대화 컨텍스트를 기억하는지 확인\n",
    "response = await new_assistant.on_messages(\n",
    "    [TextMessage(content=\"방금 쓴 시의 마지막 줄이 뭐였나요?\", source=\"user\")],\n",
    "    CancellationToken()\n",
    ")\n",
    "print(response.chat_message.content)"
   ]
  },
  {
   "cell_type": "code",
   "execution_count": null,
   "metadata": {},
   "outputs": [],
   "source": []
  }
 ],
 "metadata": {
  "kernelspec": {
   "display_name": "autogen",
   "language": "python",
   "name": "python3"
  },
  "language_info": {
   "codemirror_mode": {
    "name": "ipython",
    "version": 3
   },
   "file_extension": ".py",
   "mimetype": "text/x-python",
   "name": "python",
   "nbconvert_exporter": "python",
   "pygments_lexer": "ipython3",
   "version": "3.11.0"
  }
 },
 "nbformat": 4,
 "nbformat_minor": 2
}
