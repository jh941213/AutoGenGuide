{
 "cells": [
  {
   "cell_type": "markdown",
   "metadata": {},
   "source": [
    "# Auto Gen 기초 따라하기 - (메시지))\n",
    "- Google Gemini (OpenAI SDK)"
   ]
  },
  {
   "cell_type": "code",
   "execution_count": 3,
   "metadata": {},
   "outputs": [
    {
     "name": "stdout",
     "output_type": "stream",
     "text": [
      "용산구 맛집 추천해 드릴게요! 용산구는 다양한 종류의 맛집이 많아서 취향에 따라 선택하기 좋아요.\n",
      "\n",
      "**1. 분위기 좋은 레스토랑 & 술집:**\n",
      "\n",
      "*   **몽상가인:** 서울 용산구 한강대로15길 19 1층 (삼각지역)\n",
      "    *   분위기 좋은 이탈리안 레스토랑 겸 술집으로, 파스타, 스테이크, 뇨끼 등 다양한 메뉴가 있어요. 특히 저녁에 방문하면 더욱 로맨틱한 분위기를 즐길 수 있습니다.\n",
      "\n",
      "*   **BISTRO HAN(비스트로한):** 서울 용산구 한강대로40가길 7 (신용산역)\n",
      "    *   한강뷰가 멋진 분위기 좋은 레스토랑입니다. 맛있는 음식과 함께 특별한 시간을 보내고 싶을 때 추천합니다.\n",
      "\n",
      "**2. 가성비 좋은 맛집:**\n",
      "\n",
      "*   **에머이 용산아이파크몰점:** 서울 용산구 한강대로23길 55 아이파크몰 서관 4층 (용산역)\n",
      "    *   베트남 쌀국수 맛집으로, 저렴한 가격에 맛있는 쌀국수를 즐길 수 있어요. 롤, 볶음밥 등 다른 메뉴도 맛있습니다.\n",
      "\n",
      "*   **효뜨:** 서울 용산구 한강대로40가길 6 (신용산역)\n",
      "    *   베트남 음식점으로, 저렴한 가격에 푸짐한 양의 음식을 맛볼 수 있습니다. 특히 닭튀김이 인기 메뉴입니다.\n",
      "\n",
      "**3. 특별한 날, 고급 레스토랑:**\n",
      "\n",
      "*   **스테이:** 서울 용산구 드래곤 시티 호텔 26층\n",
      "    *   미슐랭 3스타 셰프가 운영하는 프랑스 레스토랑으로, 특별한 날을 기념하기에 좋은 곳입니다. 훌륭한 음식과 서비스를 경험할 수 있습니다.\n",
      "\n",
      "*   **винзавод(빈자보드):** 서울 용산구 이태원로55가길 6 2층 (한강진역)\n",
      "    *   분위기 좋은 러시아 음식 전문점입니다. 특별한 날 데이트나 모임 장소로 추천합니다.\n",
      "\n",
      "**4. 용리단길 핫플레이스:**\n",
      "\n",
      "*   **코너스테이크:** 서울 용산구 한강대로52길 23-3 1층 (신용산역)\n",
      "    *   용리단길에 위치한 스테이크 맛집입니다. 합리적인 가격에 퀄리티 좋은 스테이크를 즐길 수 있어 인기가 많습니다.\n",
      "\n",
      "*   **sam sam sam(샘샘샘):** 서울 용산구 한강대로44길 6\n",
      "    *   용리단길에 위치한 브런치 맛집입니다. 맛있는 브런치와 커피를 즐기며 여유로운 시간을 보내고 싶을 때 추천합니다.\n",
      "\n",
      "**꿀팁:**\n",
      "\n",
      "*   용산구에는 맛집이 워낙 많으니, 방문 전에 블로그나 리뷰를 참고하여 메뉴, 가격, 분위기 등을 확인하는 것이 좋습니다.\n",
      "*   특히 인기 있는 맛집은 웨이팅이 있을 수 있으니, 예약 가능 여부를 확인하거나 식사 시간을 피해서 방문하는 것이 좋습니다.\n",
      "\n",
      "이 외에도 용산구에는 숨겨진 맛집들이 많으니, 용산구에서 즐거운 식사 시간을 보내시길 바랍니다!\n"
     ]
    }
   ],
   "source": [
    "#Gemini API 사용\n",
    "from openai import OpenAI\n",
    "import os\n",
    "\n",
    "client = OpenAI(\n",
    "    api_key=os.getenv(\"GOOGLE_API_KEY\"),\n",
    "    base_url=\"https://generativelanguage.googleapis.com/v1beta/openai/\"\n",
    ")\n",
    "\n",
    "response = client.chat.completions.create(\n",
    "    model=\"gemini-2.0-flash\",\n",
    "    n=1,\n",
    "    messages=[\n",
    "        {\"role\": \"system\", \"content\": \"당신은 친절한 도움말 제공자입니다.\"},\n",
    "        {\n",
    "            \"role\": \"user\",\n",
    "            \"content\": \"용산구 맛집을 추천해줘\"\n",
    "        }\n",
    "    ]\n",
    ")\n",
    "\n",
    "print(response.choices[0].message.content)"
   ]
  },
  {
   "cell_type": "code",
   "execution_count": 7,
   "metadata": {},
   "outputs": [],
   "source": [
    "#core 로깅 설정\n",
    "import logging\n",
    "\n",
    "from autogen_core import EVENT_LOGGER_NAME\n",
    "\n",
    "logging.basicConfig(level=logging.WARNING) # 로깅 레벨 설정 WARNING/INFO/DEBUG\n",
    "logger = logging.getLogger(EVENT_LOGGER_NAME) # 이벤트 로거 생성\n",
    "logger.addHandler(logging.StreamHandler()) # 콘솔 출력 핸들러 추가\n",
    "logger.setLevel(logging.INFO) # 로깅 레벨 설정"
   ]
  },
  {
   "cell_type": "code",
   "execution_count": 6,
   "metadata": {},
   "outputs": [
    {
     "name": "stdout",
     "output_type": "stream",
     "text": [
      "ChatCompletionMessage(content='Okay, let\\'s break down how AI works. It\\'s a broad field, so I\\'ll give you a general overview and then touch on some key concepts and techniques.\\n\\n**Core Idea: Mimicking Intelligence**\\n\\nAt its heart, Artificial Intelligence (AI) is about creating machines that can perform tasks that typically require human intelligence. This includes things like:\\n\\n*   **Learning:** Acquiring information and rules for using the information.\\n*   **Reasoning:** Using rules to reach conclusions (either exact or approximate).\\n*   **Problem-solving:** Finding solutions to complex issues.\\n*   **Perception:** Understanding sensory input (like images, sounds, or text).\\n*   **Natural Language Processing (NLP):** Understanding and generating human language.\\n\\n**How AI Achieves This: A Multi-Layered Approach**\\n\\nAI isn\\'t one single technology, but rather a collection of techniques and approaches. Here\\'s a simplified breakdown:\\n\\n1.  **Data:**  AI systems need data to learn.  The more data, the better (usually).  This data can be anything from images and text to sensor readings and user behavior.  The data needs to be relevant to the task the AI is supposed to perform.\\n\\n2.  **Algorithms:** These are the sets of instructions that tell the computer how to process the data and learn from it. Different types of AI use different algorithms.\\n\\n3.  **Models:**  After the algorithm processes the data, it creates a \"model.\"  Think of a model as a representation of the patterns and relationships found in the data.  This model is what the AI uses to make predictions, decisions, or take actions.\\n\\n4.  **Training:** The process of feeding the data to the algorithm so it can build the model is called \"training.\" During training, the algorithm adjusts its internal parameters to improve its accuracy.\\n\\n5.  **Inference/Prediction:** Once the model is trained, it can be used to make predictions or decisions on new, unseen data. This is called \"inference.\"\\n\\n**Key AI Techniques and Concepts**\\n\\nHere are some of the most important techniques used in AI:\\n\\n*   **Machine Learning (ML):** This is a subfield of AI that focuses on enabling machines to learn from data without being explicitly programmed. Instead of writing specific rules, you provide the machine with data and let it figure out the rules itself. There are several types of machine learning:\\n\\n    *   **Supervised Learning:** The algorithm is trained on a labeled dataset, meaning the data is already tagged with the correct answers.  For example, you might train a system to identify cats in images by showing it thousands of images of cats that are labeled as \"cat.\" The algorithm learns to associate features in the images with the \"cat\" label.  Common algorithms include:\\n        *   **Linear Regression:** Predicting a continuous value (e.g., house price).\\n        *   **Logistic Regression:** Predicting a category (e.g., spam or not spam).\\n        *   **Support Vector Machines (SVMs):**  Effective for classification tasks.\\n        *   **Decision Trees:**  Creating a tree-like structure to make decisions.\\n        *   **Random Forests:**  An ensemble of decision trees.\\n\\n    *   **Unsupervised Learning:** The algorithm is trained on an unlabeled dataset, meaning the data is not tagged with the correct answers. The algorithm has to find patterns and structures in the data on its own.  For example, you might use unsupervised learning to segment customers into different groups based on their purchasing behavior. Common algorithms include:\\n        *   **Clustering (e.g., K-Means):** Grouping similar data points together.\\n        *   **Dimensionality Reduction (e.g., Principal Component Analysis - PCA):** Reducing the number of variables in a dataset while preserving important information.\\n        *   **Anomaly Detection:** Identifying unusual data points.\\n\\n    *   **Reinforcement Learning:** The algorithm learns by interacting with an environment and receiving rewards or penalties for its actions. The goal is to learn a policy that maximizes the cumulative reward. This is often used in robotics and game playing.  Think of training a dog with treats – the dog learns which actions lead to rewards.\\n\\n*   **Deep Learning (DL):** This is a subfield of machine learning that uses artificial neural networks with multiple layers (hence \"deep\") to analyze data. Deep learning is particularly good at handling complex data like images, audio, and text.  It\\'s responsible for many of the recent advances in AI.\\n\\n    *   **Neural Networks:** Inspired by the structure of the human brain, neural networks consist of interconnected nodes (neurons) that process and transmit information.  The connections between neurons have weights that are adjusted during training to improve the network\\'s performance.\\n    *   **Convolutional Neural Networks (CNNs):**  Excellent for image recognition and computer vision tasks.\\n    *   **Recurrent Neural Networks (RNNs):**  Well-suited for processing sequential data like text and time series.\\n    *   **Transformers:** A more recent architecture that has revolutionized NLP and is now being applied to other areas as well.\\n\\n*   **Natural Language Processing (NLP):** This field focuses on enabling computers to understand, interpret, and generate human language.  NLP techniques are used in chatbots, machine translation, sentiment analysis, and more.\\n\\n*   **Computer Vision:** This field focuses on enabling computers to \"see\" and interpret images and videos.  Computer vision techniques are used in self-driving cars, facial recognition, and medical image analysis.\\n\\n*   **Robotics:**  This field combines AI with engineering to create robots that can perform tasks autonomously.  Robotics applications range from manufacturing and logistics to healthcare and exploration.\\n\\n*   **Expert Systems:** These are AI systems designed to mimic the decision-making abilities of a human expert in a specific domain. They typically use a knowledge base and a set of rules to reason about the information and provide advice.\\n\\n**The AI Development Process (Simplified)**\\n\\n1.  **Define the Problem:** What task do you want the AI to perform?\\n2.  **Gather Data:** Collect relevant data to train the AI model.  The quality and quantity of data are crucial.\\n3.  **Choose an Algorithm:** Select the appropriate AI technique based on the problem and the data.\\n4.  **Train the Model:** Feed the data to the algorithm to train the model.\\n5.  **Evaluate the Model:** Assess the model\\'s performance on a separate dataset (the \"test set\") to see how well it generalizes to new data.\\n6.  **Tune the Model:** Adjust the model\\'s parameters to improve its performance.  This often involves experimentation and iteration.\\n7.  **Deploy the Model:** Integrate the trained model into a real-world application.\\n8.  **Monitor and Maintain:** Continuously monitor the model\\'s performance and retrain it as needed to maintain accuracy and adapt to changing data.\\n\\n**Important Considerations**\\n\\n*   **Bias:** AI models can inherit biases from the data they are trained on, leading to unfair or discriminatory outcomes.  It\\'s crucial to be aware of potential biases and take steps to mitigate them.\\n*   **Explainability:**  Some AI models (especially deep learning models) can be difficult to understand, making it hard to know why they made a particular decision.  This is a growing area of research, as explainable AI (XAI) is important for building trust and accountability.\\n*   **Ethics:**  AI raises ethical concerns about job displacement, privacy, security, and the potential for misuse.  It\\'s important to consider these ethical implications when developing and deploying AI systems.\\n\\n**In Summary**\\n\\nAI is a powerful and rapidly evolving field that is transforming many aspects of our lives. It involves using data, algorithms, and models to create machines that can perform tasks that typically require human intelligence. While the underlying concepts can be complex, the basic idea is to enable computers to learn from data and make intelligent decisions.\\n\\nI hope this explanation is helpful.  Let me know if you have any more specific questions! For example, if you\\'d like to dive deeper into a particular technique like deep learning or NLP, just ask.\\n', refusal=None, role='assistant', annotations=None, audio=None, function_call=None, tool_calls=None)\n"
     ]
    }
   ],
   "source": [
    "from openai import OpenAI\n",
    "from dotenv import load_dotenv\n",
    "import os\n",
    "\n",
    "load_dotenv()\n",
    "model_config = {\n",
    "    \"gemini-2.5-pro\" : {\n",
    "        \"model\": \"gemini-2.5-pro-exp-03-25\",\n",
    "        \"max_tokens\": 1024,\n",
    "        \"temperature\": 0.5,\n",
    "        \"top_p\": 1,\n",
    "        \"frequency_penalty\": 0,\n",
    "        \"presence_penalty\": 0\n",
    "    },\n",
    "    \"gemini-2.0-flash\" : {\n",
    "        \"model\": \"gemini-2.0-flash\",\n",
    "        \"max_tokens\": 1024,\n",
    "        \"temperature\": 0.5,\n",
    "        \"top_p\": 1,\n",
    "        \"frequency_penalty\": 0,\n",
    "        \"presence_penalty\": 0\n",
    "    }\n",
    "}\n",
    "\n",
    "client = OpenAI(\n",
    "    api_key=os.getenv(\"GOOGLE_API_KEY\"),\n",
    "    base_url=\"https://generativelanguage.googleapis.com/v1beta/openai/\"\n",
    ")\n",
    "\n",
    "response = client.chat.completions.create(\n",
    "    model=model_config[\"gemini-2.0-flash\"][\"model\"],\n",
    "    temperature=model_config[\"gemini-2.0-flash\"][\"temperature\"],\n",
    "    n=1,\n",
    "    messages=[\n",
    "        {\"role\": \"system\", \"content\": \"당신은 \"},\n",
    "        {\n",
    "            \"role\": \"user\",\n",
    "            \"content\": \"Explain to me how AI works\"\n",
    "        }\n",
    "    ]\n",
    ")\n",
    "\n",
    "print(response.choices[0].message)"
   ]
  },
  {
   "cell_type": "markdown",
   "metadata": {},
   "source": [
    "# Message\n",
    "- TextMessage, UserMessage 추상 객체화 하는 과정"
   ]
  },
  {
   "cell_type": "code",
   "execution_count": 13,
   "metadata": {},
   "outputs": [
    {
     "data": {
      "text/plain": [
       "TextMessage(source='User', models_usage=None, metadata={}, content='Hello, world!', type='TextMessage')"
      ]
     },
     "execution_count": 13,
     "metadata": {},
     "output_type": "execute_result"
    }
   ],
   "source": [
    "from autogen_agentchat.messages import TextMessage\n",
    "\n",
    "text_message = TextMessage(content=\"Hello, world!\", source=\"User\")\n",
    "text_message\n",
    "\n"
   ]
  },
  {
   "cell_type": "code",
   "execution_count": 14,
   "metadata": {},
   "outputs": [
    {
     "data": {
      "text/plain": [
       "'Hello, world!'"
      ]
     },
     "execution_count": 14,
     "metadata": {},
     "output_type": "execute_result"
    }
   ],
   "source": [
    "#텍스트 표현 얻기\n",
    "text_representation = text_message.to_text() # to_text() 메서드는 텍스트 메시지의 표현을 문자열로 반환합니다.\n",
    "text_representation\n"
   ]
  },
  {
   "cell_type": "code",
   "execution_count": 15,
   "metadata": {},
   "outputs": [
    {
     "data": {
      "text/plain": [
       "UserMessage(content='Hello, world!', source='User', type='UserMessage')"
      ]
     },
     "execution_count": 15,
     "metadata": {},
     "output_type": "execute_result"
    }
   ],
   "source": [
    "#모델용 메시지로 변환\n",
    "\n",
    "model_message = text_message.to_model_message()\n",
    "model_message # to_model_message() 메서드는 텍스트 메시지를 모델 메시지로 변환합니다.\n"
   ]
  },
  {
   "cell_type": "markdown",
   "metadata": {},
   "source": [
    "# StructuredMessage\n",
    "- 구조화된 메시지 , LangChain의 JsonOutputParser 기능과 동일하다. Pydantic 을 활용해서 Message의 답변을 고정하는 방법  \n",
    "ex) 맨체스터시티 김덕배의 정보를 받고싶은데 만약 고정된 값으로 데이터를 적재시키려고 한다? 이럴때 쓰면 된다."
   ]
  },
  {
   "cell_type": "code",
   "execution_count": 25,
   "metadata": {},
   "outputs": [
    {
     "data": {
      "text/plain": [
       "UserMessage(content='{\"name\":\"김덕배\",\"team\":\"맨체스터시티\",\"position\":\"공격수\",\"number\":10}', source='manager_agent', type='UserMessage')"
      ]
     },
     "execution_count": 25,
     "metadata": {},
     "output_type": "execute_result"
    }
   ],
   "source": [
    "from pydantic import BaseModel, Field\n",
    "from autogen_agentchat.messages import StructuredMessage\n",
    "from typing import Literal, Annotated, List, Optional\n",
    "\n",
    "\n",
    "class PlayerInfo(BaseModel):\n",
    "    name: Optional[str] = Field(description=\"이름\")\n",
    "    team: Optional[str] = Field(description=\"팀\")\n",
    "    position: Optional[str] = Field(description=\"포지션\")\n",
    "    number: Optional[int] = Field(description=\"번호\")\n",
    "    \n",
    "\n",
    "structured_message = StructuredMessage[PlayerInfo](\n",
    "    content=PlayerInfo(\n",
    "        name=\"김덕배\",\n",
    "        team=\"맨체스터시티\",\n",
    "        position=\"공격수\",\n",
    "        number=10\n",
    "    ),\n",
    "    source=\"manager_agent\"\n",
    ")\n",
    "\n",
    "text_representation = structured_message.to_text()\n",
    "text_representation \n",
    "\n",
    "model_message = structured_message.to_model_message()\n",
    "model_message"
   ]
  },
  {
   "cell_type": "code",
   "execution_count": 24,
   "metadata": {},
   "outputs": [
    {
     "data": {
      "text/html": [
       "<img src=\"data:image/png;base64,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\"/>"
      ],
      "text/plain": [
       "<autogen_core._image.Image at 0x10dff1a50>"
      ]
     },
     "execution_count": 24,
     "metadata": {},
     "output_type": "execute_result"
    }
   ],
   "source": [
    "from io import BytesIO\n",
    "\n",
    "import requests\n",
    "from autogen_agentchat.messages import MultiModalMessage\n",
    "from autogen_core import Image as AGImage\n",
    "from PIL import Image\n",
    "\n",
    "pil_image = Image.open(BytesIO(requests.get(\"https://picsum.photos/300/200\").content))\n",
    "img = AGImage(pil_image)\n",
    "multi_modal_message = MultiModalMessage(metadata = {\"key\":\"value\"},content=[\"Can you describe the content of this image?\", img], source=\"User\")\n",
    "\n",
    "multi_modal_message\n",
    "img"
   ]
  },
  {
   "cell_type": "markdown",
   "metadata": {},
   "source": [
    "# HandofMessage\n",
    "- 에이전트에게 전달하는 메시지\n",
    "- 멀티 에이전트 또는 다양한 페르소나 에이전트에 의해서 한 쿼리에 대해 다양한 의견을 답변 받고싶거나 보완할 때 쓸 수 있을 것 같다. LangGraph 같은 경우 Command 기능이 될 수 있고, CrewAI 에서  대화를 에이전트에게 넘기는 방법과 비슷한 것 같다."
   ]
  },
  {
   "cell_type": "code",
   "execution_count": 31,
   "metadata": {},
   "outputs": [
    {
     "data": {
      "text/plain": [
       "HandoffMessage(source='general_assistant', models_usage=None, metadata={}, content='이 복잡한 문제를 전문가에게 넘깁니다.', target='specialist_agent', context=[SystemMessage(content='이 사용자는 복잡한 통계 문제를 해결하려고 합니다.', type='SystemMessage'), UserMessage(content='베이지안 확률 모델을 어떻게 구현하나요?', source='user', type='UserMessage')], type='HandoffMessage')"
      ]
     },
     "execution_count": 31,
     "metadata": {},
     "output_type": "execute_result"
    }
   ],
   "source": [
    "from autogen_agentchat.messages import HandoffMessage\n",
    "from autogen_core.models import SystemMessage, UserMessage\n",
    "\n",
    "\n",
    "# 대화를 다른 에이전트에게 넘기는 메시지 생성\n",
    "handoff_message = HandoffMessage(\n",
    "    content=\"이 복잡한 문제를 전문가에게 넘깁니다.\",\n",
    "    source=\"general_assistant\",\n",
    "    target=\"specialist_agent\",\n",
    "    context=[\n",
    "        SystemMessage(content=\"이 사용자는 복잡한 통계 문제를 해결하려고 합니다.\", source=\"system\"),\n",
    "        UserMessage(content=\"베이지안 확률 모델을 어떻게 구현하나요?\", source=\"user\")\n",
    "    ]\n",
    ")\n",
    "handoff_message\n"
   ]
  },
  {
   "cell_type": "markdown",
   "metadata": {},
   "source": [
    "# StopMessage"
   ]
  },
  {
   "cell_type": "code",
   "execution_count": 34,
   "metadata": {},
   "outputs": [
    {
     "name": "stdout",
     "output_type": "stream",
     "text": [
      "source='user_agent' models_usage=None metadata={} content='대화를 종료합니다.' type='StopMessage'\n",
      "대화를 종료합니다.\n"
     ]
    }
   ],
   "source": [
    "from autogen_agentchat.messages import StopMessage\n",
    "\n",
    "# 대화 중지 요청 메시지 생성\n",
    "stop_message = StopMessage(\n",
    "    content=\"대화를 종료합니다.\",\n",
    "    source=\"user_agent\"\n",
    ")\n",
    "print(stop_message)\n",
    "\n",
    "# 메시지 텍스트 얻기\n",
    "text = stop_message.to_text()  # \"대화를 종료합니다.\"\n",
    "print(text)\n"
   ]
  },
  {
   "cell_type": "markdown",
   "metadata": {},
   "source": [
    "# ToolCallSummaryMessage"
   ]
  },
  {
   "cell_type": "code",
   "execution_count": 36,
   "metadata": {},
   "outputs": [
    {
     "data": {
      "text/plain": [
       "ToolCallSummaryMessage(source='search_tool', models_usage=None, metadata={}, content='웹 검색 결과: 파이썬 공식 문서에 따르면 이 오류는 일반적으로 변수 범위 문제 때문에 발생합니다.', type='ToolCallSummaryMessage')"
      ]
     },
     "execution_count": 36,
     "metadata": {},
     "output_type": "execute_result"
    }
   ],
   "source": [
    "from autogen_agentchat.messages import ToolCallSummaryMessage\n",
    "\n",
    "# 도구 호출 결과 요약 메시지 생성\n",
    "tool_summary = ToolCallSummaryMessage(\n",
    "    content=\"웹 검색 결과: 파이썬 공식 문서에 따르면 이 오류는 일반적으로 변수 범위 문제 때문에 발생합니다.\",\n",
    "    source=\"search_tool\"\n",
    ")\n",
    "tool_summary"
   ]
  },
  {
   "cell_type": "markdown",
   "metadata": {},
   "source": [
    "# ToolCallRequestEvent"
   ]
  },
  {
   "cell_type": "code",
   "execution_count": 41,
   "metadata": {},
   "outputs": [
    {
     "data": {
      "text/plain": [
       "ToolCallRequestEvent(source='assistant_agent', models_usage=None, metadata={}, content=[FunctionCall(id='tool_id_1', arguments={'expression': '2 * (3 + 4)'}, name='calculator')], type='ToolCallRequestEvent')"
      ]
     },
     "execution_count": 41,
     "metadata": {},
     "output_type": "execute_result"
    }
   ],
   "source": [
    "from autogen_agentchat.messages import ToolCallRequestEvent\n",
    "from autogen_core import FunctionCall\n",
    "\n",
    "# 도구 호출 요청 이벤트 생성\n",
    "tool_request = ToolCallRequestEvent(\n",
    "    content=[\n",
    "        FunctionCall(\n",
    "            id=\"tool_id_1\",\n",
    "            name=\"calculator\", \n",
    "            arguments={\"expression\": \"2 * (3 + 4)\"} # 도구 호출 인자\n",
    "        )\n",
    "    ],\n",
    "    source=\"assistant_agent\"\n",
    ")\n",
    "tool_request\n",
    "\n"
   ]
  },
  {
   "cell_type": "markdown",
   "metadata": {},
   "source": [
    "# ToolCallExecutionEvent"
   ]
  },
  {
   "cell_type": "code",
   "execution_count": 46,
   "metadata": {},
   "outputs": [
    {
     "data": {
      "text/plain": [
       "ToolCallExecutionEvent(source='tool_executor', models_usage=None, metadata={}, content=[FunctionExecutionResult(content='14', name='calculator', call_id='tool_id_1', is_error=None)], type='ToolCallExecutionEvent')"
      ]
     },
     "execution_count": 46,
     "metadata": {},
     "output_type": "execute_result"
    }
   ],
   "source": [
    "from autogen_agentchat.messages import ToolCallExecutionEvent\n",
    "from autogen_core.models import FunctionExecutionResult\n",
    "\n",
    "# 도구 호출 실행 결과 이벤트 생성\n",
    "tool_execution = ToolCallExecutionEvent(\n",
    "    content=[\n",
    "        FunctionExecutionResult(\n",
    "            call_id=\"tool_id_1\",  # 원본 FunctionCall ID와 연결\n",
    "            name=\"calculator\",   # 함수 이름\n",
    "            content=\"14\"         # 함수 실행 결과\n",
    "        )\n",
    "    ],\n",
    "    source=\"tool_executor\"\n",
    ")\n",
    "tool_execution"
   ]
  },
  {
   "cell_type": "markdown",
   "metadata": {},
   "source": [
    "# UserInputRequestedEvent"
   ]
  },
  {
   "cell_type": "code",
   "execution_count": 48,
   "metadata": {},
   "outputs": [
    {
     "data": {
      "text/plain": [
       "UserInputRequestedEvent(source='user_proxy', models_usage=None, metadata={}, request_id='input_request_123', content='', type='UserInputRequestedEvent')"
      ]
     },
     "execution_count": 48,
     "metadata": {},
     "output_type": "execute_result"
    }
   ],
   "source": [
    "from autogen_agentchat.messages import UserInputRequestedEvent\n",
    "\n",
    "# 사용자 입력 요청 이벤트 생성\n",
    "input_request = UserInputRequestedEvent(\n",
    "    source=\"user_proxy\",\n",
    "    request_id=\"input_request_123\" #쓰레드 아이디 같은 것 같다.\n",
    ")\n",
    "input_request"
   ]
  },
  {
   "cell_type": "markdown",
   "metadata": {},
   "source": [
    "# MemoryQueryEvent"
   ]
  },
  {
   "cell_type": "code",
   "execution_count": 53,
   "metadata": {},
   "outputs": [
    {
     "data": {
      "text/plain": [
       "MemoryQueryEvent(source='memory_agent', models_usage=None, metadata={}, content=[MemoryContent(content='사용자는 이전에 데이터 시각화 작업을 하고 있었습니다.', mime_type='text/plain', metadata={'timestamp': '2024-04-05T15:30:00'})], type='MemoryQueryEvent')"
      ]
     },
     "execution_count": 53,
     "metadata": {},
     "output_type": "execute_result"
    }
   ],
   "source": [
    "from autogen_agentchat.messages import MemoryQueryEvent\n",
    "from autogen_core.memory import MemoryContent\n",
    "\n",
    "# 메모리 쿼리 결과 이벤트 생성\n",
    "memory_query = MemoryQueryEvent(\n",
    "    content=[\n",
    "        MemoryContent(\n",
    "            id=\"input_request_123\",\n",
    "            content=\"사용자는 이전에 데이터 시각화 작업을 하고 있었습니다.\",\n",
    "            mime_type=\"text/plain\",  # 필수 필드인 mime_type 추가\n",
    "            metadata={\n",
    "                \"timestamp\": \"2024-04-05T15:30:00\",\n",
    "                # 필요하다면 id를 메타데이터에 추가: \"request_id\": \"input_request_123\"\n",
    "            }\n",
    "        )\n",
    "    ],\n",
    "    source=\"memory_agent\"\n",
    ")\n",
    "memory_query"
   ]
  },
  {
   "cell_type": "markdown",
   "metadata": {},
   "source": [
    "# ThoughtEvent\n",
    "- 추론에이전트"
   ]
  },
  {
   "cell_type": "code",
   "execution_count": 57,
   "metadata": {},
   "outputs": [
    {
     "data": {
      "text/plain": [
       "ThoughtEvent(source='reasoning_agent', models_usage=None, metadata={}, content='이 문제를 해결하기 위해서는 먼저 주어진 데이터의 분포를 확인해야 합니다. 정규 분포라면 표준 통계 방법을 적용할 수 있지만, 그렇지 않다면 비모수적 접근이 필요할 것입니다.', type='ThoughtEvent')"
      ]
     },
     "execution_count": 57,
     "metadata": {},
     "output_type": "execute_result"
    }
   ],
   "source": [
    "from autogen_agentchat.messages import ThoughtEvent\n",
    "\n",
    "thought = ThoughtEvent(\n",
    "    content=\"이 문제를 해결하기 위해서는 먼저 주어진 데이터의 분포를 확인해야 합니다. 정규 분포라면 표준 통계 방법을 적용할 수 있지만, 그렇지 않다면 비모수적 접근이 필요할 것입니다.\",\n",
    "    source=\"reasoning_agent\"\n",
    ")\n",
    "\n",
    "thought"
   ]
  },
  {
   "cell_type": "code",
   "execution_count": 18,
   "metadata": {},
   "outputs": [
    {
     "name": "stdout",
     "output_type": "stream",
     "text": [
      "['ANY', 'CLAUDE_3_5_HAIKU', 'CLAUDE_3_5_SONNET', 'CLAUDE_3_7_SONNET', 'CLAUDE_3_HAIKU', 'CLAUDE_3_OPUS', 'CLAUDE_3_SONNET', 'GEMINI_1_5_FLASH', 'GEMINI_1_5_PRO', 'GEMINI_2_0_FLASH', 'GPT_35', 'GPT_4', 'GPT_45', 'GPT_4O', 'O1', 'O3', 'R1', 'UNKNOWN', '__annotations__', '__class__', '__delattr__', '__dict__', '__dir__', '__doc__', '__eq__', '__format__', '__ge__', '__getattribute__', '__getstate__', '__gt__', '__hash__', '__init__', '__init_subclass__', '__le__', '__lt__', '__module__', '__ne__', '__new__', '__reduce__', '__reduce_ex__', '__repr__', '__setattr__', '__sizeof__', '__str__', '__subclasshook__', '__weakref__', 'is_claude', 'is_gemini', 'is_openai']\n",
      "ANY\n",
      "CLAUDE_3_5_HAIKU\n",
      "CLAUDE_3_5_SONNET\n",
      "CLAUDE_3_7_SONNET\n",
      "CLAUDE_3_HAIKU\n",
      "CLAUDE_3_OPUS\n",
      "CLAUDE_3_SONNET\n",
      "GEMINI_1_5_FLASH\n",
      "GEMINI_1_5_PRO\n",
      "GEMINI_2_0_FLASH\n",
      "GPT_35\n",
      "GPT_4\n",
      "GPT_45\n",
      "GPT_4O\n",
      "O1\n",
      "O3\n",
      "R1\n",
      "UNKNOWN\n",
      "__annotations__\n",
      "__class__\n",
      "__delattr__\n",
      "__dict__\n",
      "__dir__\n",
      "__doc__\n",
      "__eq__\n",
      "__format__\n",
      "__ge__\n",
      "__getattribute__\n",
      "__getstate__\n",
      "__gt__\n",
      "__hash__\n",
      "__init__\n",
      "__init_subclass__\n",
      "__le__\n",
      "__lt__\n",
      "__module__\n",
      "__ne__\n",
      "__new__\n",
      "__reduce__\n",
      "__reduce_ex__\n",
      "__repr__\n",
      "__setattr__\n",
      "__sizeof__\n",
      "__str__\n",
      "__subclasshook__\n",
      "__weakref__\n",
      "is_claude\n",
      "is_gemini\n",
      "is_openai\n"
     ]
    }
   ],
   "source": [
    "from autogen_core.models import ModelFamily\n",
    "\n",
    "print(dir(ModelFamily))\n",
    "\n",
    "for i in dir(ModelFamily):\n",
    "    print(i)\n"
   ]
  },
  {
   "cell_type": "code",
   "execution_count": null,
   "metadata": {},
   "outputs": [],
   "source": []
  }
 ],
 "metadata": {
  "kernelspec": {
   "display_name": "autogen",
   "language": "python",
   "name": "python3"
  },
  "language_info": {
   "codemirror_mode": {
    "name": "ipython",
    "version": 3
   },
   "file_extension": ".py",
   "mimetype": "text/x-python",
   "name": "python",
   "nbconvert_exporter": "python",
   "pygments_lexer": "ipython3",
   "version": "3.11.0"
  }
 },
 "nbformat": 4,
 "nbformat_minor": 2
}
