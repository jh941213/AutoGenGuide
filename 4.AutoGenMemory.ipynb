{
 "cells": [
  {
   "cell_type": "code",
   "execution_count": 36,
   "metadata": {},
   "outputs": [
    {
     "name": "stdout",
     "output_type": "stream",
     "text": [
      "\n",
      "👤 사용자: 안녕! 오늘 날씨 어때?\n",
      "🤖 어시스턴트: 안녕하세요! 오늘은 맑고 화창한 날씨입니다.\n",
      "\n",
      "👤 사용자: 그럼 뭐 입는 게 좋을까?\n",
      "🤖 어시스턴트: 가벼운 셔츠나 반팔에 청바지 정도가 좋겠네요!\n",
      "\n",
      "🧠 모델이 참고할 대화 컨텍스트:\n",
      "  1. \n",
      "Relevant memory content (in chronological order):\n",
      "1. User: 안녕! 오늘 날씨 어때?\n",
      "2. Assistant: 안녕하세요! 오늘은 맑고 화창한 날씨입니다.\n",
      "3. User: 그럼 뭐 입는 게 좋을까?\n",
      "4. Assistant: 가벼운 셔츠나 반팔에 청바지 정도가 좋겠네요!\n",
      "\n",
      "\n",
      "📦 저장된 메모리 내역:\n",
      "  1. User: 안녕! 오늘 날씨 어때?\n",
      "  2. Assistant: 안녕하세요! 오늘은 맑고 화창한 날씨입니다.\n",
      "  3. User: 그럼 뭐 입는 게 좋을까?\n",
      "  4. Assistant: 가벼운 셔츠나 반팔에 청바지 정도가 좋겠네요!\n"
     ]
    }
   ],
   "source": [
    "import asyncio\n",
    "from autogen_core.memory import ListMemory, MemoryContent, MemoryMimeType\n",
    "from autogen_core.model_context import BufferedChatCompletionContext\n",
    "\n",
    "async def simulate_conversation():\n",
    "    # 메모리 초기화\n",
    "    chat_memory = ListMemory(name=\"chat_history\")\n",
    "\n",
    "    # 유저 첫 질문\n",
    "    user_input1 = \"안녕! 오늘 날씨 어때?\"\n",
    "    print(f\"\\n👤 사용자: {user_input1}\")\n",
    "    await chat_memory.add(MemoryContent(content=f\"User: {user_input1}\", mime_type=MemoryMimeType.TEXT))\n",
    "\n",
    "    # 에이전트 첫 응답\n",
    "    assistant_reply1 = \"안녕하세요! 오늘은 맑고 화창한 날씨입니다.\"\n",
    "    print(f\"🤖 어시스턴트: {assistant_reply1}\")\n",
    "    await chat_memory.add(MemoryContent(content=f\"Assistant: {assistant_reply1}\", mime_type=MemoryMimeType.TEXT))\n",
    "\n",
    "    # 유저 두 번째 질문\n",
    "    user_input2 = \"그럼 뭐 입는 게 좋을까?\"\n",
    "    print(f\"\\n👤 사용자: {user_input2}\")\n",
    "    await chat_memory.add(MemoryContent(content=f\"User: {user_input2}\", mime_type=MemoryMimeType.TEXT))\n",
    "\n",
    "    # 에이전트 두 번째 응답\n",
    "    assistant_reply2 = \"가벼운 셔츠나 반팔에 청바지 정도가 좋겠네요!\"\n",
    "    print(f\"🤖 어시스턴트: {assistant_reply2}\")\n",
    "    await chat_memory.add(MemoryContent(content=f\"Assistant: {assistant_reply2}\", mime_type=MemoryMimeType.TEXT))\n",
    "\n",
    "    # 모델 컨텍스트에 대화 내역 업데이트\n",
    "    model_context = BufferedChatCompletionContext(buffer_size=1)\n",
    "\n",
    "    await chat_memory.update_context(model_context) #전체반환\n",
    "\n",
    "    # 현재 컨텍스트 메시지 출력\n",
    "    print(\"\\n🧠 모델이 참고할 대화 컨텍스트:\")\n",
    "    context_messages = await model_context.get_messages()\n",
    "    for i, msg in enumerate(context_messages):\n",
    "        print(f\"  {i+1}. {msg.content}\")\n",
    "\n",
    "    # 마지막으로 메모리 내부를 확인\n",
    "    print(\"\\n📦 저장된 메모리 내역:\")\n",
    "    all_memories = await chat_memory.query()\n",
    "    for i, m in enumerate(all_memories.results):\n",
    "        print(f\"  {i+1}. {m.content}\")\n",
    "\n",
    "    await chat_memory.close()\n",
    "\n",
    "# 실행\n",
    "await simulate_conversation()\n"
   ]
  },
  {
   "cell_type": "code",
   "execution_count": null,
   "metadata": {},
   "outputs": [],
   "source": [
    "#장기 , 단기 메모리 구현\n",
    "from autogen_core.memory import ChromaDBVectorMemory, PersistentChromaDBVectorMemoryConfig\n",
    "\n",
    "# 벡터 DB 기반 장기 메모리 초기화\n",
    "long_term_memory = ChromaDBVectorMemory(\n",
    "    config=PersistentChromaDBVectorMemoryConfig(\n",
    "        collection_name=\"user_knowledge\",\n",
    "        persistence_path=\"/path/to/db\",\n",
    "        k=3  # 상위 3개 결과 반환\n",
    "    )\n",
    ")\n",
    "\n",
    "# 중요 정보 저장\n",
    "await long_term_memory.add(\n",
    "    MemoryContent(\n",
    "        content=\"사용자는 비건 식단을 선호합니다.\",\n",
    "        mime_type=MemoryMimeType.TEXT,\n",
    "        metadata={\"category\": \"preferences\", \"importance\": \"high\"}\n",
    "    )\n",
    ")"
   ]
  },
  {
   "cell_type": "code",
   "execution_count": null,
   "metadata": {},
   "outputs": [],
   "source": [
    "# 리스트 기반 단기 메모리 초기화\n",
    "short_term_memory = ListMemory(name=\"session_context\")\n",
    "\n",
    "# 현재 세션 정보 저장\n",
    "await short_term_memory.add(\n",
    "    MemoryContent(\n",
    "        content=\"사용자는 현재 여행 계획을 논의 중입니다.\",\n",
    "        mime_type=MemoryMimeType.TEXT\n",
    "    )\n",
    ")"
   ]
  },
  {
   "cell_type": "code",
   "execution_count": null,
   "metadata": {},
   "outputs": [],
   "source": [
    "from autogen_core.agent import AssistantAgent\n",
    "from autogen_core.model_client import ModelClient\n",
    "\n",
    "model_client = ModelClient(model_name=\"gpt-4o-mini\")\n",
    "agent = AssistantAgent(\n",
    "    name=\"travel_assistant\",\n",
    "    model_client=model_client,\n",
    "    memory=[long_term_memory, short_term_memory], #2개의 메모리\n",
    "    system_message=\"사용자의 선호도를 고려하여 여행 계획을 도와주세요.\"\n",
    ")"
   ]
  },
  {
   "cell_type": "code",
   "execution_count": null,
   "metadata": {},
   "outputs": [],
   "source": [
    "# 리스트 기반 단기 메모리 초기화\n",
    "short_term_memory = ListMemory(name=\"session_context\")\n",
    "\n",
    "# 현재 세션 정보 저장\n",
    "await short_term_memory.add(\n",
    "    MemoryContent(\n",
    "        content=\"사용자는 현재 여행 계획을 논의 중입니다.\",\n",
    "        mime_type=MemoryMimeType.TEXT\n",
    "    )\n",
    ")"
   ]
  },
  {
   "cell_type": "code",
   "execution_count": null,
   "metadata": {},
   "outputs": [],
   "source": [
    "# 현재 세션 상태 저장\n",
    "agent_state = await agent.save_state()\n",
    "with open(\"user123_session.json\", \"w\") as f:\n",
    "    json.dump(agent_state, f)\n",
    "\n",
    "# 나중에 세션 복원\n",
    "with open(\"user123_session.json\", \"r\") as f:\n",
    "    saved_state = json.load(f)\n",
    "await agent.load_state(saved_state)"
   ]
  }
 ],
 "metadata": {
  "kernelspec": {
   "display_name": "autogen",
   "language": "python",
   "name": "python3"
  },
  "language_info": {
   "codemirror_mode": {
    "name": "ipython",
    "version": 3
   },
   "file_extension": ".py",
   "mimetype": "text/x-python",
   "name": "python",
   "nbconvert_exporter": "python",
   "pygments_lexer": "ipython3",
   "version": "3.11.0"
  }
 },
 "nbformat": 4,
 "nbformat_minor": 2
}
